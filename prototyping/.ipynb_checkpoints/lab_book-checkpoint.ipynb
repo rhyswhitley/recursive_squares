{
 "cells": [
  {
   "cell_type": "markdown",
   "metadata": {},
   "source": [
    "# Prototype for recursive squares"
   ]
  },
  {
   "cell_type": "code",
   "execution_count": 174,
   "metadata": {
    "collapsed": false
   },
   "outputs": [],
   "source": [
    "class Tiler:\n",
    "    \n",
    "    max_dim = None \n",
    "    \n",
    "    def __init__ (self, origin, dim, parent=None):\n",
    "        self.origin = origin\n",
    "        self.dim = dim\n",
    "        self.parent = parent\n",
    "        self.children = []\n",
    "        if self.level == 0:\n",
    "            Tiler.max_dim = self.dim\n",
    "\n",
    "    def __str__(self):\n",
    "        s = '{}{} x {}\\n'.format (' ' * (2 * self.level), self.dim, self.dim)\n",
    "        for child in self.children: \n",
    "            s += str (child)\n",
    "        return s\n",
    "    \n",
    "    def vertices(self, dim):\n",
    "        \n",
    "        top_left = self.origin[0], self.origin[1] + dim\n",
    "        top_right = self.origin[0] + dim, self.origin[1] + dim\n",
    "        bottom_right = self.origin[0] + dim, self.origin[1]\n",
    "        \n",
    "        return (self.origin, top_left, top_right, bottom_right)\n",
    "        \n",
    "    def split(self):\n",
    "            \n",
    "        if self.children: \n",
    "            raise Exception ('Already split')\n",
    "        \n",
    "        # split the axis\n",
    "        half_dim = self.dim/2.\n",
    "        \n",
    "        # calculate new origins for sub-squares\n",
    "        new_origins = self.vertices(half_dim)\n",
    "        \n",
    "        # create new tiles as children of current\n",
    "        self.children = [Tiler(x0y0, half_dim, self) for x0y0 in new_origins]\n",
    "        \n",
    "    @property\n",
    "    def level(self):\n",
    "        return 0 if not self.parent else 1 + self.parent.level\n",
    "    \n",
    "    def splitUntilLevel(self, maxLevel):\n",
    "        if maxLevel <= self.level: return \n",
    "        self.split()\n",
    "        for child in self.children: \n",
    "            child.splitUntilLevel(maxLevel)\n",
    "    \n",
    "    @property\n",
    "    def lvldim(self):\n",
    "        return Tiler.max_dim if not self.parent else self.parent.lvldim/2\n",
    "            \n",
    "    def splitUntilDim(self, minDim):\n",
    "        if minDim >= self.lvldim: \n",
    "            return self\n",
    "        self.split()\n",
    "        for child in self.children: \n",
    "            child.splitUntilDim(minDim)\n",
    "    \n",
    "    def yield_tiles(self):\n",
    "        \n",
    "        if self.is_leaf():\n",
    "            yield (self.origin, self.dim)\n",
    "        else:\n",
    "            for child in self.children:\n",
    "                for tile in child.yield_tiles():\n",
    "                    yield tile\n",
    "    \n",
    "    def is_leaf(self):\n",
    "        return not self.children        "
   ]
  },
  {
   "cell_type": "code",
   "execution_count": 182,
   "metadata": {
    "collapsed": false,
    "scrolled": true
   },
   "outputs": [
    {
     "name": "stdout",
     "output_type": "stream",
     "text": [
      "((0, 0), 1.25)\n",
      "((0, 1.25), 1.25)\n",
      "((1.25, 1.25), 1.25)\n",
      "((1.25, 0), 1.25)\n",
      "((0, 2.5), 1.25)\n",
      "((0, 3.75), 1.25)\n",
      "((1.25, 3.75), 1.25)\n",
      "((1.25, 2.5), 1.25)\n",
      "((2.5, 2.5), 1.25)\n",
      "((2.5, 3.75), 1.25)\n",
      "\n",
      "Length: 256\n"
     ]
    }
   ],
   "source": [
    "tiles2 = Tiler((0,0), 20)\n",
    "tiles2.splitUntilDim(2.025)\n",
    "\n",
    "test = list(tiles2.yield_tiles())\n",
    "\n",
    "for i, x in enumerate(test):\n",
    "    if i < 10:\n",
    "        print(x)\n",
    "\n",
    "print(\"\\nLength: {}\".format(len(test)))"
   ]
  },
  {
   "cell_type": "code",
   "execution_count": 236,
   "metadata": {
    "collapsed": true
   },
   "outputs": [],
   "source": [
    "import numpy as np\n",
    "\n",
    "tile_size = 10 \n",
    "x_dim = np.arange(0, 200, tile_size)\n",
    "y_dim = np.arange(0, 100, tile_size)\n",
    "\n",
    "x_grid, y_grid = np.meshgrid(x_dim, y_dim)"
   ]
  },
  {
   "cell_type": "code",
   "execution_count": 237,
   "metadata": {
    "collapsed": false
   },
   "outputs": [],
   "source": [
    "coords = np.vstack((x_grid.ravel(), y_grid.ravel())).T"
   ]
  },
  {
   "cell_type": "code",
   "execution_count": 238,
   "metadata": {
    "collapsed": true
   },
   "outputs": [],
   "source": [
    "def grid_points(origin, dim):\n",
    "\n",
    "    top_left = origin[0], origin[1] + dim\n",
    "    top_right = origin[0] + dim, origin[1] + dim\n",
    "    bottom_right = origin[0] + dim, origin[1]\n",
    "\n",
    "    return [tuple(origin), top_left, top_right, bottom_right]"
   ]
  },
  {
   "cell_type": "code",
   "execution_count": 239,
   "metadata": {
    "collapsed": false
   },
   "outputs": [],
   "source": [
    "grid_verts = [grid_points(xy, tile_size) for xy in coords]"
   ]
  },
  {
   "cell_type": "code",
   "execution_count": 240,
   "metadata": {
    "collapsed": false
   },
   "outputs": [],
   "source": [
    "import matplotlib.pyplot as plt\n",
    "from matplotlib.collections import PatchCollection\n",
    "from descartes import PolygonPatch\n",
    "from shapely.geometry import Polygon"
   ]
  },
  {
   "cell_type": "code",
   "execution_count": 243,
   "metadata": {
    "collapsed": false
   },
   "outputs": [
    {
     "data": {
      "image/png": "[encoded data removed]",
      "text/plain": [
       "<matplotlib.figure.Figure at 0x10cb6dbe0>"
      ]
     },
     "metadata": {},
     "output_type": "display_data"
    }
   ],
   "source": [
    "import random\n",
    "\n",
    "plt.figure(figsize=(10, 5))\n",
    "\n",
    "ax = plt.subplot(111)\n",
    "for verts in grid_verts:\n",
    "    p = PolygonPatch(Polygon(verts), fc='crimson', ec='black', alpha=0.5)\n",
    "    ax.add_patch(p)\n",
    "    \n",
    "ax.set_xlim(0, 200)\n",
    "ax.set_ylim(0, 100)\n",
    "ax.axis('off')\n",
    "    \n",
    "plt.show()"
   ]
  },
  {
   "cell_type": "code",
   "execution_count": null,
   "metadata": {
    "collapsed": true
   },
   "outputs": [],
   "source": []
  }
 ],
 "metadata": {
  "kernelspec": {
   "display_name": "Python 3",
   "language": "python",
   "name": "python3"
  },
  "language_info": {
   "codemirror_mode": {
    "name": "ipython",
    "version": 3
   },
   "file_extension": ".py",
   "mimetype": "text/x-python",
   "name": "python",
   "nbconvert_exporter": "python",
   "pygments_lexer": "ipython3",
   "version": "3.6.0"
  }
 },
 "nbformat": 4,
 "nbformat_minor": 2
}
